{
 "cells": [
  {
   "cell_type": "code",
   "execution_count": 20,
   "metadata": {},
   "outputs": [],
   "source": [
    "from image_products import *\n",
    "from webcoos_request import *"
   ]
  },
  {
   "cell_type": "code",
   "execution_count": 21,
   "metadata": {},
   "outputs": [
    {
     "name": "stdout",
     "output_type": "stream",
     "text": [
      "Readable date: Monday, July 22, 2024, 00:00:00\n",
      "Readable date: Tuesday, July 23, 2024, 00:00:00\n",
      "Request params: {'service': 'currituck_hampton_inn-video-archive-s3', 'starting_after': '2024-07-22T00:00:00', 'starting_before': '2024-07-23T00:00:00'}\n",
      "https://s3.us-west-2.amazonaws.com/webcoos/media/sources/webcoos/groups/noaa/assets/currituck_hampton_inn/feeds/raw-video-data/products/video-archive/elements/2024/07/22/currituck_hampton_inn-2024-07-22-000245Z.mp4\n"
     ]
    }
   ],
   "source": [
    "start_time = '2024-07-22 00:00:00'\n",
    "end_time = '2024-07-23 00:00:00'\n",
    "station_names = ['oakisland_west', 'jennette_north','currituck_hampton_inn']\n",
    "inv = get_inventory(start_time=start_time, end_time=end_time,station=station_names[2])\n",
    "print(inv[0]['data']['properties']['url'])"
   ]
  },
  {
   "cell_type": "code",
   "execution_count": 22,
   "metadata": {},
   "outputs": [
    {
     "name": "stdout",
     "output_type": "stream",
     "text": [
      "Attempting to create directory: c:\\Users\\Corey Dearing\\Desktop\\ShorelineProjectRepo\\images\n",
      "Directory already exists: c:\\Users\\Corey Dearing\\Desktop\\ShorelineProjectRepo\\images\n",
      "Attempting to create directory: c:\\Users\\Corey Dearing\\Desktop\\ShorelineProjectRepo\\images\\currituck_hampton_inn\n",
      "Created directory: c:\\Users\\Corey Dearing\\Desktop\\ShorelineProjectRepo\\images\\currituck_hampton_inn\n",
      "Attempting to create directory: c:\\Users\\Corey Dearing\\Desktop\\ShorelineProjectRepo\\images\\currituck_hampton_inn\\timex\n",
      "Created directory: c:\\Users\\Corey Dearing\\Desktop\\ShorelineProjectRepo\\images\\currituck_hampton_inn\\timex\n",
      "Attempting to create directory: c:\\Users\\Corey Dearing\\Desktop\\ShorelineProjectRepo\\images\\currituck_hampton_inn\\bright\n",
      "Created directory: c:\\Users\\Corey Dearing\\Desktop\\ShorelineProjectRepo\\images\\currituck_hampton_inn\\bright\n",
      "Attempting to create directory: c:\\Users\\Corey Dearing\\Desktop\\ShorelineProjectRepo\\images\\currituck_hampton_inn\\average\n",
      "Created directory: c:\\Users\\Corey Dearing\\Desktop\\ShorelineProjectRepo\\images\\currituck_hampton_inn\\average\n"
     ]
    }
   ],
   "source": [
    "url = inv[0]['data']['properties']['url']\n",
    "IP = ImageProcessor(stationName=station_names[2])"
   ]
  },
  {
   "cell_type": "code",
   "execution_count": 23,
   "metadata": {},
   "outputs": [
    {
     "name": "stdout",
     "output_type": "stream",
     "text": [
      "Video download complete. Duration: 5.31 seconds.\n"
     ]
    }
   ],
   "source": [
    "IP.download_video(url)"
   ]
  },
  {
   "cell_type": "code",
   "execution_count": 24,
   "metadata": {},
   "outputs": [
    {
     "name": "stdout",
     "output_type": "stream",
     "text": [
      "Station path: c:\\Users\\Corey Dearing\\Desktop\\webCOOS\\webcoos_request\\currituck_hampton_inn.config.json\n",
      "Station path: c:\\Users\\Corey Dearing\\Desktop\\webCOOS\\webcoos_request\\currituck_hampton_inn.config.json\n",
      "Created directory: c:\\Users\\Corey Dearing\\Desktop\\ShorelineProjectRepo\\transect_jsons\\currituck_hampton_inn\n",
      "Saved JSON to: c:\\Users\\Corey Dearing\\Desktop\\ShorelineProjectRepo\\transect_jsons\\currituck_hampton_inn\\currituck_hampton_inn-2024-07-22_0002.avg.slVars.json\n",
      "Photo dimensions: (456, 806, 3)\n",
      "Shoreline coordinates (first 10): [[  5 245]\n",
      " [ 15 246]\n",
      " [ 25 246]\n",
      " [ 35 242]\n",
      " [ 45 241]\n",
      " [ 55 243]\n",
      " [ 65 244]\n",
      " [ 75 244]\n",
      " [ 85 244]\n",
      " [ 95 244]]\n",
      "Directory exists: c:\\Users\\Corey Dearing\\Desktop\\ShorelineProjectRepo\\images\\currituck_hampton_inn\\average\n",
      "Saved fig_tranSL to: c:\\Users\\Corey Dearing\\Desktop\\ShorelineProjectRepo\\images\\currituck_hampton_inn\\average\\currituck_hampton_inn-2024-07-22_0002.tranSL-avg.fix.jpeg\n"
     ]
    },
    {
     "data": {
      "text/plain": [
       "(array([[  5, 245],\n",
       "        [ 15, 246],\n",
       "        [ 25, 246],\n",
       "        [ 35, 242],\n",
       "        [ 45, 241],\n",
       "        [ 55, 243],\n",
       "        [ 65, 244],\n",
       "        [ 75, 244],\n",
       "        [ 85, 244],\n",
       "        [ 95, 244],\n",
       "        [105, 245],\n",
       "        [115, 245],\n",
       "        [125, 245],\n",
       "        [135, 245],\n",
       "        [145, 245],\n",
       "        [155, 246],\n",
       "        [165, 245],\n",
       "        [175, 245],\n",
       "        [185, 245],\n",
       "        [195, 245],\n",
       "        [205, 245],\n",
       "        [215, 246],\n",
       "        [225, 246],\n",
       "        [235, 247],\n",
       "        [245, 248],\n",
       "        [255, 248],\n",
       "        [265, 248],\n",
       "        [275, 247],\n",
       "        [285, 247],\n",
       "        [295, 247],\n",
       "        [305, 246],\n",
       "        [315, 247],\n",
       "        [325, 247],\n",
       "        [335, 246],\n",
       "        [345, 246],\n",
       "        [355, 246],\n",
       "        [365, 237],\n",
       "        [375, 246],\n",
       "        [385, 247],\n",
       "        [395, 247],\n",
       "        [405, 247],\n",
       "        [415, 247],\n",
       "        [425, 247],\n",
       "        [435, 247],\n",
       "        [445, 248],\n",
       "        [455, 247],\n",
       "        [465, 247],\n",
       "        [475, 247],\n",
       "        [485, 246],\n",
       "        [495, 246],\n",
       "        [505, 245],\n",
       "        [515, 246],\n",
       "        [525, 246],\n",
       "        [535, 247],\n",
       "        [545, 247],\n",
       "        [555, 247],\n",
       "        [565, 247],\n",
       "        [575, 246],\n",
       "        [585, 246],\n",
       "        [595, 245],\n",
       "        [605, 245],\n",
       "        [615, 245],\n",
       "        [625, 245],\n",
       "        [635, 246],\n",
       "        [645, 245],\n",
       "        [655, 246],\n",
       "        [665, 246],\n",
       "        [675, 246],\n",
       "        [685, 247],\n",
       "        [695, 247],\n",
       "        [705, 247],\n",
       "        [715, 248],\n",
       "        [725, 248],\n",
       "        [735, 249],\n",
       "        [745, 249],\n",
       "        [755, 251],\n",
       "        [765, 249],\n",
       "        [775, 250],\n",
       "        [785, 250],\n",
       "        [795, 250]]),\n",
       " <Figure size 640x480 with 1 Axes>)"
      ]
     },
     "execution_count": 24,
     "metadata": {},
     "output_type": "execute_result"
    }
   ],
   "source": [
    "IP.generate_timex_image()\n",
    "IP.generate_brightest_pixel_image()\n",
    "IP.generate_timexavg_shoreline()"
   ]
  },
  {
   "cell_type": "code",
   "execution_count": 25,
   "metadata": {},
   "outputs": [
    {
     "name": "stdout",
     "output_type": "stream",
     "text": [
      "Deleted temporary video file: currituck_hampton_inn-2024-07-22-000245Z.mp4\n"
     ]
    }
   ],
   "source": [
    "IP.clean_up()"
   ]
  }
 ],
 "metadata": {
  "kernelspec": {
   "display_name": "base",
   "language": "python",
   "name": "python3"
  },
  "language_info": {
   "codemirror_mode": {
    "name": "ipython",
    "version": 3
   },
   "file_extension": ".py",
   "mimetype": "text/x-python",
   "name": "python",
   "nbconvert_exporter": "python",
   "pygments_lexer": "ipython3",
   "version": "3.12.7"
  }
 },
 "nbformat": 4,
 "nbformat_minor": 2
}
